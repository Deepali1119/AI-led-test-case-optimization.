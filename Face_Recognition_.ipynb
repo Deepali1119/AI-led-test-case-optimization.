{
  "nbformat": 4,
  "nbformat_minor": 0,
  "metadata": {
    "colab": {
      "provenance": [],
      "gpuType": "T4",
      "include_colab_link": true
    },
    "kernelspec": {
      "name": "python3",
      "display_name": "Python 3"
    },
    "language_info": {
      "name": "python"
    },
    "accelerator": "GPU"
  },
  "cells": [
    {
      "cell_type": "markdown",
      "metadata": {
        "id": "view-in-github",
        "colab_type": "text"
      },
      "source": [
        "<a href=\"https://colab.research.google.com/github/Deepali1119/AI-led-test-case-optimization./blob/main/Face_Recognition_.ipynb\" target=\"_parent\"><img src=\"https://colab.research.google.com/assets/colab-badge.svg\" alt=\"Open In Colab\"/></a>"
      ]
    },
    {
      "cell_type": "markdown",
      "source": [
        "**Face Recognition Using Face_Recognition Library**"
      ],
      "metadata": {
        "id": "UPRVxpZ0ONCJ"
      }
    },
    {
      "cell_type": "code",
      "source": [
        "from google.colab import drive\n",
        "drive.mount('/content/drive')"
      ],
      "metadata": {
        "colab": {
          "base_uri": "https://localhost:8080/"
        },
        "id": "6gqAEzXo6WSs",
        "outputId": "33e6235e-7143-41a5-9b73-e3bd08325f6e"
      },
      "execution_count": 1,
      "outputs": [
        {
          "output_type": "stream",
          "name": "stdout",
          "text": [
            "Mounted at /content/drive\n"
          ]
        }
      ]
    },
    {
      "cell_type": "code",
      "source": [
        "!pip install git+https://github.com/andreinechaev/nvcc4jupyter.git\n"
      ],
      "metadata": {
        "colab": {
          "base_uri": "https://localhost:8080/"
        },
        "id": "RDwgXNuKm2ge",
        "outputId": "deff2584-192c-4a02-90ed-69736858632b"
      },
      "execution_count": 2,
      "outputs": [
        {
          "output_type": "stream",
          "name": "stdout",
          "text": [
            "Collecting git+https://github.com/andreinechaev/nvcc4jupyter.git\n",
            "  Cloning https://github.com/andreinechaev/nvcc4jupyter.git to /tmp/pip-req-build-4pus9_mq\n",
            "  Running command git clone --filter=blob:none --quiet https://github.com/andreinechaev/nvcc4jupyter.git /tmp/pip-req-build-4pus9_mq\n",
            "  Resolved https://github.com/andreinechaev/nvcc4jupyter.git to commit 326b0a57a80c6d0b4bad25ca7adf8138419ef1cb\n",
            "  Installing build dependencies ... \u001b[?25l\u001b[?25hdone\n",
            "  Getting requirements to build wheel ... \u001b[?25l\u001b[?25hdone\n",
            "  Preparing metadata (pyproject.toml) ... \u001b[?25l\u001b[?25hdone\n",
            "Building wheels for collected packages: nvcc4jupyter\n",
            "  Building wheel for nvcc4jupyter (pyproject.toml) ... \u001b[?25l\u001b[?25hdone\n",
            "  Created wheel for nvcc4jupyter: filename=nvcc4jupyter-1.2.1-py3-none-any.whl size=10741 sha256=1c43b610d84440f376c57bb0b3d20f87e2433fdb6f06eb98d5fd7c81c461a971\n",
            "  Stored in directory: /tmp/pip-ephem-wheel-cache-_bpswzo8/wheels/a8/b9/18/23f8ef71ceb0f63297dd1903aedd067e6243a68ea756d6feea\n",
            "Successfully built nvcc4jupyter\n",
            "Installing collected packages: nvcc4jupyter\n",
            "Successfully installed nvcc4jupyter-1.2.1\n"
          ]
        }
      ]
    },
    {
      "cell_type": "code",
      "source": [
        " !pip install face_recognition\n",
        " !pip install Dlib\n",
        " !pip install -v --install-option=\"--no\" --install-option=\"DLIB_USE_CUDA\" dlib\n",
        "\n",
        "import dlib\n",
        "import os\n",
        "import face_recognition\n",
        "\n",
        "def train_face_recognition_model(data_dir):\n",
        "    known_encodings = []\n",
        "    labels = []\n",
        "\n",
        "    for label_name in os.listdir(data_dir):\n",
        "        label_dir = os.path.join(data_dir, label_name)\n",
        "        if os.path.isdir(label_dir):\n",
        "            for image_name in os.listdir(label_dir):\n",
        "                image_path = os.path.join(label_dir, image_name)\n",
        "                image = face_recognition.load_image_file(image_path)\n",
        "                encoding = face_recognition.face_encodings(image)\n",
        "                if len(encoding) > 0:\n",
        "                    known_encodings.append(encoding[0])\n",
        "                    labels.append(label_name)\n",
        "\n",
        "    return known_encodings, labels\n"
      ],
      "metadata": {
        "id": "YrKbCJcuOXgY",
        "colab": {
          "base_uri": "https://localhost:8080/"
        },
        "outputId": "46b4d6a8-29f7-43dd-e08c-7e28867f077e"
      },
      "execution_count": 3,
      "outputs": [
        {
          "output_type": "stream",
          "name": "stdout",
          "text": [
            "Collecting face_recognition\n",
            "  Downloading face_recognition-1.3.0-py2.py3-none-any.whl (15 kB)\n",
            "Collecting face-recognition-models>=0.3.0 (from face_recognition)\n",
            "  Downloading face_recognition_models-0.3.0.tar.gz (100.1 MB)\n",
            "\u001b[2K     \u001b[90m━━━━━━━━━━━━━━━━━━━━━━━━━━━━━━━━━━━━━━━━\u001b[0m \u001b[32m100.1/100.1 MB\u001b[0m \u001b[31m7.5 MB/s\u001b[0m eta \u001b[36m0:00:00\u001b[0m\n",
            "\u001b[?25h  Preparing metadata (setup.py) ... \u001b[?25l\u001b[?25hdone\n",
            "Requirement already satisfied: Click>=6.0 in /usr/local/lib/python3.10/dist-packages (from face_recognition) (8.1.7)\n",
            "Requirement already satisfied: dlib>=19.7 in /usr/local/lib/python3.10/dist-packages (from face_recognition) (19.24.4)\n",
            "Requirement already satisfied: numpy in /usr/local/lib/python3.10/dist-packages (from face_recognition) (1.25.2)\n",
            "Requirement already satisfied: Pillow in /usr/local/lib/python3.10/dist-packages (from face_recognition) (9.4.0)\n",
            "Building wheels for collected packages: face-recognition-models\n",
            "  Building wheel for face-recognition-models (setup.py) ... \u001b[?25l\u001b[?25hdone\n",
            "  Created wheel for face-recognition-models: filename=face_recognition_models-0.3.0-py2.py3-none-any.whl size=100566170 sha256=c5806e3b68c98cc86a28cfd7a285615f124cb400b0797b7a46f4a78f7b1ba0bd\n",
            "  Stored in directory: /root/.cache/pip/wheels/7a/eb/cf/e9eced74122b679557f597bb7c8e4c739cfcac526db1fd523d\n",
            "Successfully built face-recognition-models\n",
            "Installing collected packages: face-recognition-models, face_recognition\n",
            "Successfully installed face-recognition-models-0.3.0 face_recognition-1.3.0\n",
            "Requirement already satisfied: Dlib in /usr/local/lib/python3.10/dist-packages (19.24.4)\n",
            "\n",
            "Usage:   \n",
            "  pip3 install [options] <requirement specifier> [package-index-options] ...\n",
            "  pip3 install [options] -r <requirements file> [package-index-options] ...\n",
            "  pip3 install [options] [-e] <vcs project url> ...\n",
            "  pip3 install [options] [-e] <local project path> ...\n",
            "  pip3 install [options] <archive url/path> ...\n",
            "\n",
            "no such option: --install-option\n"
          ]
        }
      ]
    },
    {
      "cell_type": "code",
      "source": [
        "def recognize_faces(test_image_path, known_encodings, labels):\n",
        "    unknown_image = face_recognition.load_image_file(test_image_path)\n",
        "    unknown_encoding = face_recognition.face_encodings(unknown_image)\n",
        "\n",
        "    if len(unknown_encoding) > 0:\n",
        "        results = face_recognition.compare_faces(known_encodings, unknown_encoding[0])\n",
        "        # print(results)\n",
        "        for i, result in enumerate(results):\n",
        "            if result:\n",
        "                return labels[i]\n",
        "        return \"Not Matched\"\n",
        "    else:\n",
        "        return \"No face detected\"\n"
      ],
      "metadata": {
        "id": "FkEfltkcWyT9"
      },
      "execution_count": 4,
      "outputs": []
    },
    {
      "cell_type": "code",
      "source": [
        "data_dir = \"/content/Photos\"\n",
        "known_encodings, labels = train_face_recognition_model(data_dir)\n"
      ],
      "metadata": {
        "id": "beUo1nw0W0cF"
      },
      "execution_count": 5,
      "outputs": []
    },
    {
      "cell_type": "code",
      "source": [
        "test_image_path = \"/content/imgg.jpg\"\n",
        "label = recognize_faces(test_image_path, known_encodings, labels)\n",
        "print(\"Predicted Label:\", label)\n"
      ],
      "metadata": {
        "colab": {
          "base_uri": "https://localhost:8080/"
        },
        "id": "7RI7AiMkOv3_",
        "outputId": "5149fd5c-5034-4f3b-aba8-9bfb9dcfdcfb"
      },
      "execution_count": 9,
      "outputs": [
        {
          "output_type": "stream",
          "name": "stdout",
          "text": [
            "Predicted Label: Alia Bhatt\n"
          ]
        }
      ]
    }
  ]
}